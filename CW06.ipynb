{
 "cells": [
  {
   "cell_type": "code",
   "execution_count": 2,
   "metadata": {
    "collapsed": false
   },
   "outputs": [
   ],
   "source": [
    "# Basic plotting defaults\n",
    "import matplotlib.pyplot as plt\n",
    "import elementary as el\n",
    "import scipy.constants\n",
    "%matplotlib inline\n",
    "# Use better color defaults\n",
    "plt.style.use(\"seaborn-pastel\")\n",
    "\n",
    "# (Optional) Enable interactivity for plots in notebook\n",
    "# Note: This will not work with CoCalc notebooks - you must switch to a \"Classic Notebook\" in the File menu\n",
    "# It is recommended that you use this to explore, but then turn it off when making static plots for presentation\n",
    "#import mpld3\n",
    "#mpld3.enable_notebook()"
   ]
  },
  {
   "cell_type": "code",
   "execution_count": 3,
   "metadata": {
    "collapsed": false
   },
   "outputs": [
   ],
   "source": [
    "\"\"\"p1 is the first generic particle import\"\"\"\n",
    "p1 = el.Particle(0,0,1)\n",
    "p1.impulse(0,0,10.0)\n",
    "\n",
    "\"\"\"elec1 is the first instance of an electron\"\"\"\n",
    "elec1 = el.Electron(0,0,2)\n",
    "elec1.impulse(0,0,10.0/scipy.constants.m_e)\n",
    "\n",
    "\"\"\"prot1 is the first instance of a proton\"\"\"\n",
    "prot1 = el.Proton(0,0,3)\n"
   ]
  },
  {
   "cell_type": "markdown",
   "metadata": {
    "collapsed": false
   },
   "source": [
    "This next piece of code calls the mass of each of the particles, which shows that they have different mass"
   ]
  },
  {
   "cell_type": "code",
   "execution_count": 4,
   "metadata": {
    "collapsed": false
   },
   "outputs": [
    {
     "name": "stdout",
     "output_type": "stream",
     "text": [
      "p1 mass: 1.0, elec1 mass: 9.10938356e-31, prot1 mass: 1.672621898e-27\n"
     ]
    }
   ],
   "source": [
    "print(\"p1 mass: \" + str(p1.mass) + \", elec1 mass: \" + str(elec1.mass) + \", prot1 mass: \" + str(prot1.mass))"
   ]
  },
  {
   "cell_type": "code",
   "execution_count": 0,
   "metadata": {
    "collapsed": false
   },
   "outputs": [
   ],
   "source": [
   ]
  }
 ],
 "metadata": {
  "kernelspec": {
   "display_name": "Python 3 (Anaconda 5)",
   "language": "python",
   "name": "anaconda5"
  }
 },
 "nbformat": 4,
 "nbformat_minor": 0
}