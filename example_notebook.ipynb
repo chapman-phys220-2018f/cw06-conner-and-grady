{
 "cells": [
  {
   "cell_type": "code",
   "execution_count": 1,
   "metadata": {
    "collapsed": false
   },
   "outputs": [
   ],
   "source": [
    "# Basic plotting defaults\n",
    "import matplotlib.pyplot as plt\n",
    "%matplotlib inline\n",
    "# Use better color defaults\n",
    "plt.style.use(\"seaborn-pastel\")\n",
    "\n",
    "# (Optional) Enable interactivity for plots in notebook\n",
    "# Note: This will not work with CoCalc notebooks - you must switch to a \"Classic Notebook\" in the File menu\n",
    "# It is recommended that you use this to explore, but then turn it off when making static plots for presentation\n",
    "#import mpld3\n",
    "#mpld3.enable_notebook()"
   ]
  },
  {
   "cell_type": "markdown",
   "metadata": {
    "collapsed": false
   },
   "source": [
    "# Notebook Title Here\n",
    "\n",
    "Conner Carnahan\n",
    "Grady Lynch\n",
    "\n",
    "October 2, 2018"
   ]
  },
  {
   "cell_type": "markdown",
   "metadata": {
    "collapsed": false
   },
   "source": [
    "## Section Title Here\n",
    "\n",
    "Critique of our classwork 4."
   ]
  },
  {
   "cell_type": "markdown",
   "metadata": {
    "collapsed": false
   },
   "source": [
    "Conner's Critique of Grady's work:\n",
    "\n",
    "First obvious thing, you should use the style guide (specifically make sure you have doc strings so that we know what things do).\n",
    "Second, you didn't include the bash script that would run the python file.\n",
    "It doesn't look like travis is enabled on your repository.\n",
    "There is no jupyter notebook in the repository.\n",
    "So I don't know how to fully evaluate it, but the code for primes looked fine.\n",
    "70/100\n",
    "\n"
   ]
  },
  {
   "cell_type": "markdown",
   "metadata": {
    "collapsed": false
   },
   "source": [
    "Note that plots will show by default inside the notebook in a nice way, which allows you to create clear documents with both results and discussions together."
   ]
  },
  {
   "cell_type": "markdown",
   "metadata": {
    "collapsed": false
   },
   "source": [
    "### Subsection Title Here\n",
    "\n",
    "Recall for this assignment that gravity pulls down (in the $\\hat{k}$, or $z$-direction) with a uniform acceleration $\\vec{a} = g\\,(-\\hat{k})$, where $g = |\\vec{g}| = (9.8\\,\\text{m/s}^2)$. For each small interval of time $dt$, this acceleration will deliver an impulse to a particle $$d\\vec{p} = m\\,\\vec{g}\\,dt,$$ where $m$ is the mass of the particle. If we denote the coordinate vector of the particle $\\vec{r} = x\\,\\hat{\\imath} + y\\,\\hat{\\jmath} + z\\,\\hat{k}$ by the tuple of its components $(x,\\,y,\\,z)$, then we can denote the impulse per unit time $dt$ by the tuple $$d\\vec{p} \\sim (0,\\,0,\\,-m\\,g\\,dt).$$ Use this impulse when telling particles how to accelerate when moving within a gravitational field."
   ]
  },
  {
   "cell_type": "code",
   "execution_count": 0,
   "metadata": {
    "collapsed": false
   },
   "outputs": [
   ],
   "source": [
   ]
  }
 ],
 "metadata": {
  "kernelspec": {
   "display_name": "Python 3 (Anaconda 5)",
   "language": "python",
   "name": "anaconda5"
  },
  "language_info": {
   "codemirror_mode": {
    "name": "ipython",
    "version": 3
   },
   "file_extension": ".py",
   "mimetype": "text/x-python",
   "name": "python",
   "nbconvert_exporter": "python",
   "pygments_lexer": "ipython3",
   "version": "3.6.5"
  }
 },
 "nbformat": 4,
 "nbformat_minor": 0
}