{
 "cells": [
  {
   "cell_type": "code",
   "execution_count": 1,
   "metadata": {
    "collapsed": false
   },
   "outputs": [
   ],
   "source": [
   ]
  },
  {
   "cell_type": "markdown",
   "metadata": {
    "collapsed": false
   },
   "source": [
    "Critique of our classwork 4.\n",
    "\n",
    "Conner Carnahan\n",
    "Grady Lynch\n",
    "\n",
    "October 2, 2018"
   ]
  },
  {
   "cell_type": "markdown",
   "metadata": {
    "collapsed": false
   },
   "source": [
   ]
  },
  {
   "cell_type": "markdown",
   "metadata": {
    "collapsed": false
   },
   "source": [
    "Conner's Critique of Grady's work:\n",
    "\n",
    "First obvious thing, you should use the style guide (specifically make sure you have doc strings so that we know what things do).\n",
    "Second, you didn't include the bash script that would run the python file.\n",
    "It doesn't look like travis is enabled on your repository.\n",
    "There is no jupyter notebook in the repository.\n",
    "So I don't know how to fully evaluate it, but the code for primes looked fine.\n",
    "70/100\n",
    "\n",
    "Grady's Critique of Conner's Work:\n",
    "\n",
    "Code is well organized and properly documented. Code runs and passes tests. 100/100\n"
   ]
  },
  {
   "cell_type": "markdown",
   "metadata": {
    "collapsed": false
   },
   "source": [
   ]
  },
  {
   "cell_type": "markdown",
   "metadata": {
    "collapsed": false
   },
   "source": [
   ]
  },
  {
   "cell_type": "code",
   "execution_count": 0,
   "metadata": {
    "collapsed": false
   },
   "outputs": [
   ],
   "source": [
   ]
  }
 ],
 "metadata": {
  "kernelspec": {
   "display_name": "Python 3 (Anaconda 5)",
   "language": "python",
   "name": "anaconda5"
  },
  "language_info": {
   "codemirror_mode": {
    "name": "ipython",
    "version": 3
   },
   "file_extension": ".py",
   "mimetype": "text/x-python",
   "name": "python",
   "nbconvert_exporter": "python",
   "pygments_lexer": "ipython3",
   "version": "3.6.5"
  }
 },
 "nbformat": 4,
 "nbformat_minor": 0
}